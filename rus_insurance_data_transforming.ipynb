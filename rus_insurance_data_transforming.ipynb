{
 "cells": [
  {
   "cell_type": "markdown",
   "metadata": {},
   "source": [
    "# Защита персональных данных клиентов"
   ]
  },
  {
   "cell_type": "markdown",
   "metadata": {},
   "source": [
    "# Содержание\n",
    "\n",
    "- [Введение](#intro)\n",
    "- [Загрузка данных](#data)\n",
    "- [Умножение матриц](#multiplication)\n",
    "- [Алгоритм преобразования](#algorithm)\n",
    "- [Проверка алгоритма](#testing)\n",
    "- [Вывод](#conclusion)"
   ]
  },
  {
   "cell_type": "markdown",
   "metadata": {},
   "source": [
    "<a id='intro'></a>\n",
    "## Введение.\n",
    "\n",
    "Перед нами стоит задачи разработать алгоритм преобразования данных для страховой компании с целью их шифрования, чтобы по ним было сложно восстановить персональную информацию. Качество модели при этом не должно быть хуже чем с оригинальными данными. Нам предоставлен файл содержащий данные клиентов страховой компании, изучим его, если надо сделаем предобработку и будем использовать эти данные для тестирования алгоритма."
   ]
  },
  {
   "cell_type": "markdown",
   "metadata": {},
   "source": [
    "<a id='data'></a>\n",
    "## Загрузка данных"
   ]
  },
  {
   "cell_type": "markdown",
   "metadata": {},
   "source": [
    "**Импортируем необходимые библиотеки**"
   ]
  },
  {
   "cell_type": "code",
   "execution_count": 1,
   "metadata": {},
   "outputs": [],
   "source": [
    "import pandas as pd\n",
    "import numpy as np\n",
    "\n",
    "from sklearn.model_selection import train_test_split\n",
    "from sklearn.linear_model import LinearRegression\n",
    "from sklearn.metrics import r2_score\n",
    "\n",
    "from sklearn.base import TransformerMixin, BaseEstimator\n",
    "from sklearn.pipeline import Pipeline"
   ]
  },
  {
   "cell_type": "markdown",
   "metadata": {},
   "source": [
    "**Читаем исходный файл**"
   ]
  },
  {
   "cell_type": "code",
   "execution_count": 2,
   "metadata": {},
   "outputs": [],
   "source": [
    "try:\n",
    "    data = pd.read_csv('insurance.csv')\n",
    "except:\n",
    "    data = pd.read_csv('/datasets/insurance.csv')"
   ]
  },
  {
   "cell_type": "markdown",
   "metadata": {},
   "source": [
    "**Основная информация о датафрейме**"
   ]
  },
  {
   "cell_type": "code",
   "execution_count": 3,
   "metadata": {},
   "outputs": [
    {
     "name": "stdout",
     "output_type": "stream",
     "text": [
      "<class 'pandas.core.frame.DataFrame'>\n",
      "RangeIndex: 5000 entries, 0 to 4999\n",
      "Data columns (total 5 columns):\n",
      " #   Column             Non-Null Count  Dtype  \n",
      "---  ------             --------------  -----  \n",
      " 0   Пол                5000 non-null   int64  \n",
      " 1   Возраст            5000 non-null   float64\n",
      " 2   Зарплата           5000 non-null   float64\n",
      " 3   Члены семьи        5000 non-null   int64  \n",
      " 4   Страховые выплаты  5000 non-null   int64  \n",
      "dtypes: float64(2), int64(3)\n",
      "memory usage: 195.4 KB\n"
     ]
    }
   ],
   "source": [
    "data.info()"
   ]
  },
  {
   "cell_type": "code",
   "execution_count": 4,
   "metadata": {},
   "outputs": [
    {
     "data": {
      "text/html": [
       "<div>\n",
       "<style scoped>\n",
       "    .dataframe tbody tr th:only-of-type {\n",
       "        vertical-align: middle;\n",
       "    }\n",
       "\n",
       "    .dataframe tbody tr th {\n",
       "        vertical-align: top;\n",
       "    }\n",
       "\n",
       "    .dataframe thead th {\n",
       "        text-align: right;\n",
       "    }\n",
       "</style>\n",
       "<table border=\"1\" class=\"dataframe\">\n",
       "  <thead>\n",
       "    <tr style=\"text-align: right;\">\n",
       "      <th></th>\n",
       "      <th>Пол</th>\n",
       "      <th>Возраст</th>\n",
       "      <th>Зарплата</th>\n",
       "      <th>Члены семьи</th>\n",
       "      <th>Страховые выплаты</th>\n",
       "    </tr>\n",
       "  </thead>\n",
       "  <tbody>\n",
       "    <tr>\n",
       "      <th>0</th>\n",
       "      <td>1</td>\n",
       "      <td>41.0</td>\n",
       "      <td>49600.0</td>\n",
       "      <td>1</td>\n",
       "      <td>0</td>\n",
       "    </tr>\n",
       "    <tr>\n",
       "      <th>1</th>\n",
       "      <td>0</td>\n",
       "      <td>46.0</td>\n",
       "      <td>38000.0</td>\n",
       "      <td>1</td>\n",
       "      <td>1</td>\n",
       "    </tr>\n",
       "    <tr>\n",
       "      <th>2</th>\n",
       "      <td>0</td>\n",
       "      <td>29.0</td>\n",
       "      <td>21000.0</td>\n",
       "      <td>0</td>\n",
       "      <td>0</td>\n",
       "    </tr>\n",
       "    <tr>\n",
       "      <th>3</th>\n",
       "      <td>0</td>\n",
       "      <td>21.0</td>\n",
       "      <td>41700.0</td>\n",
       "      <td>2</td>\n",
       "      <td>0</td>\n",
       "    </tr>\n",
       "    <tr>\n",
       "      <th>4</th>\n",
       "      <td>1</td>\n",
       "      <td>28.0</td>\n",
       "      <td>26100.0</td>\n",
       "      <td>0</td>\n",
       "      <td>0</td>\n",
       "    </tr>\n",
       "  </tbody>\n",
       "</table>\n",
       "</div>"
      ],
      "text/plain": [
       "   Пол  Возраст  Зарплата  Члены семьи  Страховые выплаты\n",
       "0    1     41.0   49600.0            1                  0\n",
       "1    0     46.0   38000.0            1                  1\n",
       "2    0     29.0   21000.0            0                  0\n",
       "3    0     21.0   41700.0            2                  0\n",
       "4    1     28.0   26100.0            0                  0"
      ]
     },
     "execution_count": 4,
     "metadata": {},
     "output_type": "execute_result"
    }
   ],
   "source": [
    "data.head()"
   ]
  },
  {
   "cell_type": "markdown",
   "metadata": {},
   "source": [
    "В датафреме 5000 строк. Типы данных в колонках `Возраст` и `Зарплата` находятся в вещественном типе, преобразуем их в целочисленный."
   ]
  },
  {
   "cell_type": "markdown",
   "metadata": {},
   "source": [
    "**Изменение типов данных**"
   ]
  },
  {
   "cell_type": "code",
   "execution_count": 5,
   "metadata": {},
   "outputs": [],
   "source": [
    "data['Возраст'] = data['Возраст'].astype('int')\n",
    "data['Зарплата'] = data['Зарплата'].astype('int')"
   ]
  },
  {
   "cell_type": "code",
   "execution_count": 6,
   "metadata": {},
   "outputs": [
    {
     "name": "stdout",
     "output_type": "stream",
     "text": [
      "<class 'pandas.core.frame.DataFrame'>\n",
      "RangeIndex: 5000 entries, 0 to 4999\n",
      "Data columns (total 5 columns):\n",
      " #   Column             Non-Null Count  Dtype\n",
      "---  ------             --------------  -----\n",
      " 0   Пол                5000 non-null   int64\n",
      " 1   Возраст            5000 non-null   int32\n",
      " 2   Зарплата           5000 non-null   int32\n",
      " 3   Члены семьи        5000 non-null   int64\n",
      " 4   Страховые выплаты  5000 non-null   int64\n",
      "dtypes: int32(2), int64(3)\n",
      "memory usage: 156.4 KB\n"
     ]
    }
   ],
   "source": [
    "data.info()"
   ]
  },
  {
   "cell_type": "code",
   "execution_count": 7,
   "metadata": {},
   "outputs": [
    {
     "data": {
      "text/html": [
       "<div>\n",
       "<style scoped>\n",
       "    .dataframe tbody tr th:only-of-type {\n",
       "        vertical-align: middle;\n",
       "    }\n",
       "\n",
       "    .dataframe tbody tr th {\n",
       "        vertical-align: top;\n",
       "    }\n",
       "\n",
       "    .dataframe thead th {\n",
       "        text-align: right;\n",
       "    }\n",
       "</style>\n",
       "<table border=\"1\" class=\"dataframe\">\n",
       "  <thead>\n",
       "    <tr style=\"text-align: right;\">\n",
       "      <th></th>\n",
       "      <th>Пол</th>\n",
       "      <th>Возраст</th>\n",
       "      <th>Зарплата</th>\n",
       "      <th>Члены семьи</th>\n",
       "      <th>Страховые выплаты</th>\n",
       "    </tr>\n",
       "  </thead>\n",
       "  <tbody>\n",
       "    <tr>\n",
       "      <th>0</th>\n",
       "      <td>1</td>\n",
       "      <td>41</td>\n",
       "      <td>49600</td>\n",
       "      <td>1</td>\n",
       "      <td>0</td>\n",
       "    </tr>\n",
       "    <tr>\n",
       "      <th>1</th>\n",
       "      <td>0</td>\n",
       "      <td>46</td>\n",
       "      <td>38000</td>\n",
       "      <td>1</td>\n",
       "      <td>1</td>\n",
       "    </tr>\n",
       "    <tr>\n",
       "      <th>2</th>\n",
       "      <td>0</td>\n",
       "      <td>29</td>\n",
       "      <td>21000</td>\n",
       "      <td>0</td>\n",
       "      <td>0</td>\n",
       "    </tr>\n",
       "    <tr>\n",
       "      <th>3</th>\n",
       "      <td>0</td>\n",
       "      <td>21</td>\n",
       "      <td>41700</td>\n",
       "      <td>2</td>\n",
       "      <td>0</td>\n",
       "    </tr>\n",
       "    <tr>\n",
       "      <th>4</th>\n",
       "      <td>1</td>\n",
       "      <td>28</td>\n",
       "      <td>26100</td>\n",
       "      <td>0</td>\n",
       "      <td>0</td>\n",
       "    </tr>\n",
       "  </tbody>\n",
       "</table>\n",
       "</div>"
      ],
      "text/plain": [
       "   Пол  Возраст  Зарплата  Члены семьи  Страховые выплаты\n",
       "0    1       41     49600            1                  0\n",
       "1    0       46     38000            1                  1\n",
       "2    0       29     21000            0                  0\n",
       "3    0       21     41700            2                  0\n",
       "4    1       28     26100            0                  0"
      ]
     },
     "execution_count": 7,
     "metadata": {},
     "output_type": "execute_result"
    }
   ],
   "source": [
    "data.head()"
   ]
  },
  {
   "cell_type": "markdown",
   "metadata": {},
   "source": [
    "Типы заменили, данные готовы для работы с ними. Можем приступать к следующему шагу."
   ]
  },
  {
   "cell_type": "markdown",
   "metadata": {},
   "source": [
    "<a id='multiplication'></a>\n",
    "## Умножение матриц"
   ]
  },
  {
   "cell_type": "markdown",
   "metadata": {},
   "source": [
    "Обозначения:\n",
    "\n",
    "- $X$ — матрица признаков (нулевой столбец состоит из единиц)\n",
    "\n",
    "- $y$ — вектор целевого признака\n",
    "\n",
    "- $P$ — матрица, на которую умножаются признаки\n",
    "\n",
    "- $w$ — вектор весов линейной регрессии (нулевой элемент равен сдвигу)"
   ]
  },
  {
   "cell_type": "markdown",
   "metadata": {},
   "source": [
    "Предсказания:\n",
    "\n",
    "$$\n",
    "a = Xw\n",
    "$$\n",
    "\n",
    "Задача обучения:\n",
    "\n",
    "$$\n",
    "w = \\arg\\min_w MSE(Xw, y)\n",
    "$$\n",
    "\n",
    "Формула обучения:\n",
    "\n",
    "$$\n",
    "w = (X^T X)^{-1} X^T y\n",
    "$$"
   ]
  },
  {
   "cell_type": "markdown",
   "metadata": {},
   "source": [
    "**Ответ:** При умножении признаков на обратимую матрицу качество линейной регресии не изменится.\n",
    "\n",
    "**Обоснование:** При умножении матрицы $X$ на матрицу $P$ получаем новую матрицу, пусть это будет матрица $Z$:\n",
    "\n",
    "$$\n",
    "Z=XP\n",
    "$$\n",
    "\n",
    "Качество регресии будет совпадать если $a$ не изменнённой матрицы будет совпадать с $a_P$ - предсказания с ипользованием матрицы $Z$.\n",
    "\n",
    "$$\n",
    "a=a_P\n",
    "$$\n",
    "\n",
    "Посмотрим на $a_P$ и докажем что будет совпадение с $a$.\n",
    "Так как $a = Xw$ и $w = (X^T X)^{-1} X^T y$ получаем:\n",
    "\n",
    "$$\n",
    "a_P=Zw_P\n",
    "$$\n",
    "$$\n",
    "w_P=(Z^T Z)^{-1} Z^T y\n",
    "$$\n",
    "\n",
    "\n",
    "Для дальнейших расчётов $a_P$, заменим $Z$ на $XP$:\n",
    "$$\n",
    "a_P=XPw_P\n",
    "$$\n",
    "$$\n",
    "w_P=((XP)^T XP)^{-1} (XP)^T y\n",
    "$$\n",
    "\n",
    "В раскрытии $w_P$ нам поможет следущее правило: $(ABС)^{-1} = ((AB)С)^{-1} = ((AB)С)^{-1} = С^{-1}(AB)^{-1} = С^{-1}B^{-1}A^{-1}$\n",
    "\n",
    "$$\n",
    "w_P=P^{-1}((XP)^{T}X)^{-1} (XP)^Ty\n",
    "$$\n",
    "\n",
    "Вспомним одно из свойств транспонированной матрицы. Транспонированное произведение матриц равно произведению транспонированных матриц, взятых в обратном порядке. $(AB)^T=B^TA^T$.\n",
    "\n",
    "$$\n",
    "w_P=P^{-1}((XP)^{T}X)^{-1} P^TX^Ty\n",
    "$$\n",
    "$$\n",
    "w_P=P^{-1}(P^TX^TX)^{-1} P^TX^Ty\n",
    "$$\n",
    "\n",
    "Применив вышеуказанное правило получили из $((XP)^T XP)^{-1}$ три матрицы $P^{-1}(X^TX)^{-1}(P^T)^{-1}$, теперь $w_P$ выглядит следущим образом:\n",
    "\n",
    "$$\n",
    "w_P=P^{-1}(X^TX)^{-1}(P^T)^{-1} P^TX^Ty\n",
    "$$\n",
    "\n",
    "$(P^T)^{-1} P$ будет равно  $E$ тогда:\n",
    "\n",
    "$$\n",
    "w_P=P^{-1}(X^TX)^{-1} X^Ty\n",
    "$$\n",
    "\n",
    "Из этого следует:\n",
    "\n",
    "$$\n",
    "w_P=P^{-1}w\n",
    "$$\n",
    "\n",
    "Посмотрим на $a_P$:\n",
    "$$\n",
    "a_P=Zw_P= XPP^{-1}w\n",
    "$$\n",
    "\n",
    "$PP^{-1}$ как и $(P^T)^{-1} P$ ранее будет равно  $E$ тогда:\n",
    "\n",
    "$$\n",
    "a_P=Xw=a\n",
    "$$\n",
    "\n",
    "Мы доказали что при умножении признаков на обратимую матрицу значение предсказаний не меняются $a=a_P$, а это значит качество линейной регресии не поменяется. "
   ]
  },
  {
   "cell_type": "markdown",
   "metadata": {},
   "source": [
    "<a id='algorithm'></a>\n",
    "## Алгоритм преобразования"
   ]
  },
  {
   "cell_type": "markdown",
   "metadata": {},
   "source": [
    "**Алгоритм**\n",
    "\n",
    "Будем производить умножение матрицы признаков на случайно сгенерированную обратимую матрицу.\n",
    "\n",
    "- Сначала сгенерируем обратимую матрицу $P$\n",
    "- Сделаем проверку на обратимость\n",
    "- После того как убедимся что матрица обратимая, получим матрицу $Z$ перемножив матрицы $X$ и $P$\n",
    "- Матрица $Z$ будет являтся матрицей с зашифрованными признаками. Эту матрицу будем использовать для обучения модели."
   ]
  },
  {
   "cell_type": "markdown",
   "metadata": {},
   "source": [
    "**Обоснование**\n",
    "\n",
    "В предудущем пункте мы доказали что при умножении матрицы признаков на случайную обратимую матрицу качество линейной регресии не поменяется. При генерации матрицы $P$ нужно обратить внимание на то чтобы определитель не был равен нулю (матрица обратима только когда она невырожденная). Матрица $P$ квадратная $(𝑛×𝑛)$, при генерации нужно учёсть её размер. Матрица $X$ имеет размер $(𝑚×𝑛)$. $𝑛$ этих матриц должен совпадать, тогда мы получим матрицу $Z$ такого же размера как и $X$. "
   ]
  },
  {
   "cell_type": "markdown",
   "metadata": {},
   "source": [
    "<a id='testing'></a>\n",
    "## Проверка алгоритма"
   ]
  },
  {
   "cell_type": "markdown",
   "metadata": {},
   "source": [
    "**Выделение целевого признака**\n",
    "\n",
    "Перед тем как приступать к обучению модели выделим целевой признак, он находится в колонке `Страховые выплаты`."
   ]
  },
  {
   "cell_type": "code",
   "execution_count": 8,
   "metadata": {},
   "outputs": [],
   "source": [
    "features = data.drop('Страховые выплаты', axis=1)\n",
    "target = data['Страховые выплаты']"
   ]
  },
  {
   "cell_type": "markdown",
   "metadata": {},
   "source": [
    "**Разбитие на выборки**\n",
    "\n",
    "Сделаем разбитие данных на две выборки:\n",
    "\n",
    "- Тренировочную - для обучения модели\n",
    "- Валидационную - на которой мы будем проверять модель\n",
    "\n",
    "Разделение произведём в соотношении 3:1, тоесть 75% - тренировочная выборка, 25% - валидационная выборка."
   ]
  },
  {
   "cell_type": "code",
   "execution_count": 9,
   "metadata": {},
   "outputs": [],
   "source": [
    "features_train, features_test, target_train, target_test = train_test_split(\n",
    "    features, target, test_size=0.25, random_state=12345)"
   ]
  },
  {
   "cell_type": "code",
   "execution_count": 10,
   "metadata": {},
   "outputs": [
    {
     "name": "stdout",
     "output_type": "stream",
     "text": [
      "(3750, 4)\n",
      "(1250, 4)\n",
      "(3750,)\n",
      "(1250,)\n"
     ]
    }
   ],
   "source": [
    "print(features_train.shape)\n",
    "print(features_test.shape)\n",
    "print(target_train.shape)\n",
    "print(target_test.shape)"
   ]
  },
  {
   "cell_type": "markdown",
   "metadata": {},
   "source": [
    "Сделали разбитие, проверили размеры - всё корректно.\n",
    "\n",
    "**Прогноз на незашифрованных данных**\n",
    "\n",
    "Обучим модель линейной регресии на назашифрованных данных, сделаем предсказание и узнаем качество модели по метрике качества R2. Данным показатель в дальнейшем должен совпасть с предсказаниями сделанными на зашифрованном датасете."
   ]
  },
  {
   "cell_type": "code",
   "execution_count": 11,
   "metadata": {},
   "outputs": [],
   "source": [
    "model = LinearRegression().fit(features_train, target_train)"
   ]
  },
  {
   "cell_type": "code",
   "execution_count": 12,
   "metadata": {
    "scrolled": true
   },
   "outputs": [
    {
     "name": "stdout",
     "output_type": "stream",
     "text": [
      "R2 = 0.4352275684083253\n"
     ]
    }
   ],
   "source": [
    "predictions = model.predict(features_test)\n",
    "print('R2 =', r2_score(target_test, predictions))"
   ]
  },
  {
   "cell_type": "markdown",
   "metadata": {},
   "source": [
    "Получили **R2: 0.435**"
   ]
  },
  {
   "cell_type": "markdown",
   "metadata": {},
   "source": [
    "**Создание зашифрованного датасета**\n",
    "\n",
    "Напишем функцию с помощью которой получим зашифрованные данные. Основной принцып алгоритма был описан выше. Создадим случайную квадратную матрицу у которой размер будет равен ширине матрицы с признаками. Определитель должен быть не равен нулю, поэтому при генерации добавим проверку определителя, если он окажентся 0, тогда генерируюм другую матрицу, пока не получим нужную."
   ]
  },
  {
   "cell_type": "code",
   "execution_count": 13,
   "metadata": {},
   "outputs": [],
   "source": [
    "def change_features(features):\n",
    "    n = features.shape[1]\n",
    "    matrix = np.random.randint(1, 10, (n,n))\n",
    "    det = np.linalg.det(matrix)\n",
    "    while det == 0:\n",
    "        matrix = np.random.randint(1, 10, (n,n))\n",
    "        det = np.linalg.det(matrix)\n",
    "    changed_features = features @ matrix\n",
    "    return changed_features"
   ]
  },
  {
   "cell_type": "code",
   "execution_count": 14,
   "metadata": {},
   "outputs": [
    {
     "data": {
      "text/html": [
       "<div>\n",
       "<style scoped>\n",
       "    .dataframe tbody tr th:only-of-type {\n",
       "        vertical-align: middle;\n",
       "    }\n",
       "\n",
       "    .dataframe tbody tr th {\n",
       "        vertical-align: top;\n",
       "    }\n",
       "\n",
       "    .dataframe thead th {\n",
       "        text-align: right;\n",
       "    }\n",
       "</style>\n",
       "<table border=\"1\" class=\"dataframe\">\n",
       "  <thead>\n",
       "    <tr style=\"text-align: right;\">\n",
       "      <th></th>\n",
       "      <th>0</th>\n",
       "      <th>1</th>\n",
       "      <th>2</th>\n",
       "      <th>3</th>\n",
       "    </tr>\n",
       "  </thead>\n",
       "  <tbody>\n",
       "    <tr>\n",
       "      <th>0</th>\n",
       "      <td>99372</td>\n",
       "      <td>198617</td>\n",
       "      <td>148978</td>\n",
       "      <td>148885</td>\n",
       "    </tr>\n",
       "    <tr>\n",
       "      <th>1</th>\n",
       "      <td>76189</td>\n",
       "      <td>152239</td>\n",
       "      <td>114190</td>\n",
       "      <td>114093</td>\n",
       "    </tr>\n",
       "    <tr>\n",
       "      <th>2</th>\n",
       "      <td>42116</td>\n",
       "      <td>84145</td>\n",
       "      <td>63116</td>\n",
       "      <td>63058</td>\n",
       "    </tr>\n",
       "    <tr>\n",
       "      <th>3</th>\n",
       "      <td>83494</td>\n",
       "      <td>166923</td>\n",
       "      <td>125196</td>\n",
       "      <td>125144</td>\n",
       "    </tr>\n",
       "    <tr>\n",
       "      <th>4</th>\n",
       "      <td>52315</td>\n",
       "      <td>104543</td>\n",
       "      <td>78420</td>\n",
       "      <td>78358</td>\n",
       "    </tr>\n",
       "  </tbody>\n",
       "</table>\n",
       "</div>"
      ],
      "text/plain": [
       "       0       1       2       3\n",
       "0  99372  198617  148978  148885\n",
       "1  76189  152239  114190  114093\n",
       "2  42116   84145   63116   63058\n",
       "3  83494  166923  125196  125144\n",
       "4  52315  104543   78420   78358"
      ]
     },
     "metadata": {},
     "output_type": "display_data"
    },
    {
     "name": "stdout",
     "output_type": "stream",
     "text": [
      "(5000, 4)\n"
     ]
    }
   ],
   "source": [
    "new_features = change_features(features)\n",
    "display(new_features.head())\n",
    "print(new_features.shape)"
   ]
  },
  {
   "cell_type": "markdown",
   "metadata": {},
   "source": [
    "Создали зашифрованные признаки и проверили размер датасета. Размер соотвествует оригинальному датасету. Теперь произведём разбитие на выборки новых признаков, в том же соотношении как и прежде (75%/25%)."
   ]
  },
  {
   "cell_type": "code",
   "execution_count": 15,
   "metadata": {},
   "outputs": [],
   "source": [
    "new_features_train, new_features_test, new_target_train, new_target_test = train_test_split(\n",
    "    new_features, target, test_size=0.25, random_state=12345)"
   ]
  },
  {
   "cell_type": "code",
   "execution_count": 16,
   "metadata": {},
   "outputs": [
    {
     "name": "stdout",
     "output_type": "stream",
     "text": [
      "(3750, 4)\n",
      "(1250, 4)\n",
      "(3750,)\n",
      "(1250,)\n"
     ]
    }
   ],
   "source": [
    "print(new_features_train.shape)\n",
    "print(new_features_test.shape)\n",
    "print(new_target_train.shape)\n",
    "print(new_target_test.shape)"
   ]
  },
  {
   "cell_type": "markdown",
   "metadata": {},
   "source": [
    "Сделали разбитие, проверили размеры - всё корректно.\n",
    "\n",
    "**Прогноз на зашифрованных данных**\n",
    "\n",
    "Обучим модель на новых признаках, сделаем прогноз и проверим соотвествие качества модели с предыдущей."
   ]
  },
  {
   "cell_type": "code",
   "execution_count": 17,
   "metadata": {},
   "outputs": [],
   "source": [
    "crypted_model = LinearRegression().fit(new_features_train, new_target_train)"
   ]
  },
  {
   "cell_type": "code",
   "execution_count": 18,
   "metadata": {},
   "outputs": [
    {
     "name": "stdout",
     "output_type": "stream",
     "text": [
      "R2 = 0.43522756840844057\n"
     ]
    }
   ],
   "source": [
    "new_predictions = crypted_model.predict(new_features_test)\n",
    "print('R2 =', r2_score(new_target_test, new_predictions))"
   ]
  },
  {
   "cell_type": "markdown",
   "metadata": {},
   "source": [
    "Качество модели совпадает **R2: 0.435**."
   ]
  },
  {
   "cell_type": "markdown",
   "metadata": {},
   "source": [
    "<a id='conclusion'></a>\n",
    "## Вывод\n",
    "\n",
    "Целью данного проекта являлось разработка метода преобразования данных при котором качество модели машинного обучения не изменится и изначальные данные будет трудно восстановить.\n",
    "\n",
    "Предложили алгоритм при котором матрицу содержащую признаки умножают на случайно сгенерированную обратимую матрицу. Тем самым мы зашифруем оригинальные значения. Качество модели при этом не ухудшится, мы доказали это с помощью детального разбора формул.\n",
    "\n",
    "Реализовали данный алгоритм. Построили две модели линейной регрессии, одна с оригинальными признаки, вторая с зашифрованными. Сравнили их качество, качество не изменилось, в обоих случаях метрика качества **R2 = 0.435**. Можем сделать вывод что такой метод шифровки данных корректный и имеет право на использование."
   ]
  }
 ],
 "metadata": {
  "ExecuteTimeLog": [
   {
    "duration": 2330,
    "start_time": "2023-03-13T12:47:11.992Z"
   },
   {
    "duration": 61,
    "start_time": "2023-03-13T12:47:14.324Z"
   },
   {
    "duration": 13,
    "start_time": "2023-03-13T12:47:14.387Z"
   },
   {
    "duration": 25,
    "start_time": "2023-03-13T12:47:14.402Z"
   },
   {
    "duration": 18,
    "start_time": "2023-03-13T12:47:14.429Z"
   },
   {
    "duration": 39,
    "start_time": "2023-03-13T12:47:14.449Z"
   },
   {
    "duration": 14,
    "start_time": "2023-03-13T12:47:14.490Z"
   },
   {
    "duration": 8,
    "start_time": "2023-03-13T12:47:14.506Z"
   },
   {
    "duration": 6,
    "start_time": "2023-03-13T12:47:14.516Z"
   },
   {
    "duration": 5,
    "start_time": "2023-03-13T12:47:14.525Z"
   },
   {
    "duration": 9,
    "start_time": "2023-03-13T12:47:14.532Z"
   },
   {
    "duration": 10,
    "start_time": "2023-03-13T12:47:14.543Z"
   },
   {
    "duration": 7,
    "start_time": "2023-03-13T12:47:14.571Z"
   },
   {
    "duration": 23,
    "start_time": "2023-03-13T12:47:14.581Z"
   },
   {
    "duration": 15,
    "start_time": "2023-03-13T12:47:14.606Z"
   },
   {
    "duration": 20,
    "start_time": "2023-03-13T12:47:14.626Z"
   },
   {
    "duration": 17,
    "start_time": "2023-03-13T12:47:14.649Z"
   },
   {
    "duration": 30,
    "start_time": "2023-03-13T12:47:14.669Z"
   }
  ],
  "kernelspec": {
   "display_name": "Python 3 (ipykernel)",
   "language": "python",
   "name": "python3"
  },
  "language_info": {
   "codemirror_mode": {
    "name": "ipython",
    "version": 3
   },
   "file_extension": ".py",
   "mimetype": "text/x-python",
   "name": "python",
   "nbconvert_exporter": "python",
   "pygments_lexer": "ipython3",
   "version": "3.9.18"
  },
  "toc": {
   "base_numbering": 1,
   "nav_menu": {},
   "number_sections": true,
   "sideBar": true,
   "skip_h1_title": true,
   "title_cell": "Содержание",
   "title_sidebar": "Contents",
   "toc_cell": true,
   "toc_position": {},
   "toc_section_display": true,
   "toc_window_display": true
  },
  "varInspector": {
   "cols": {
    "lenName": 16,
    "lenType": 16,
    "lenVar": 40
   },
   "kernels_config": {
    "python": {
     "delete_cmd_postfix": "",
     "delete_cmd_prefix": "del ",
     "library": "var_list.py",
     "varRefreshCmd": "print(var_dic_list())"
    },
    "r": {
     "delete_cmd_postfix": ") ",
     "delete_cmd_prefix": "rm(",
     "library": "var_list.r",
     "varRefreshCmd": "cat(var_dic_list()) "
    }
   },
   "types_to_exclude": [
    "module",
    "function",
    "builtin_function_or_method",
    "instance",
    "_Feature"
   ],
   "window_display": false
  }
 },
 "nbformat": 4,
 "nbformat_minor": 4
}
